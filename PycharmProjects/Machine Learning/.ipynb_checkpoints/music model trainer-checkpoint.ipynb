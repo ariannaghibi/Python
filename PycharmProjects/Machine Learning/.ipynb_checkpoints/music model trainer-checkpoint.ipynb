{
 "cells": [
  {
   "cell_type": "code",
   "execution_count": 102,
   "metadata": {},
   "outputs": [
    {
     "data": {
      "text/plain": [
       "array(['Dance'], dtype=object)"
      ]
     },
     "execution_count": 102,
     "metadata": {},
     "output_type": "execute_result"
    }
   ],
   "source": [
    "#Create a model in which based on user's age and gender, predicts what kind of music the user likes\n",
    "import pandas as pd\n",
    "from sklearn.tree import DecisionTreeClassifier\n",
    "\n",
    "#Import the data\n",
    "music_data = pd.read_csv('music.csv')\n",
    "#Prepare the data by splitting it into input and output\n",
    "x = music_data.drop(columns = 'genre')\n",
    "y = music_data['genre']\n",
    "\n",
    "#Build a model\n",
    "model = DecisionTreeClassifier()\n",
    "#Train the model\n",
    "model.fit(x, y)\n",
    "#prediction example\n",
    "prediction = model.predict([[22, 0]])\n",
    "prediction\n",
    "\n"
   ]
  },
  {
   "cell_type": "code",
   "execution_count": 103,
   "metadata": {},
   "outputs": [
    {
     "data": {
      "text/plain": [
       "1.0"
      ]
     },
     "execution_count": 103,
     "metadata": {},
     "output_type": "execute_result"
    }
   ],
   "source": [
    "from sklearn.model_selection import train_test_split\n",
    "from sklearn.metrics import accuracy_score\n",
    "\n",
    "#Split the data into 80% training and 20% testing set\n",
    "x_train, x_test, y_train, y_test = train_test_split(x, y, test_size = 0.2)\n",
    "#Build a model off training dataset\n",
    "model.fit(x_train, y_train)\n",
    "#Make predictions from testing set\n",
    "prediction = model.predict(x_test)\n",
    "#Compare the prediction with the actualy values of our test set\n",
    "accuracy_score(y_test, prediction)"
   ]
  },
  {
   "cell_type": "code",
   "execution_count": 132,
   "metadata": {
    "scrolled": false
   },
   "outputs": [
    {
     "data": {
      "text/plain": [
       "array(['Dance'], dtype=object)"
      ]
     },
     "execution_count": 132,
     "metadata": {},
     "output_type": "execute_result"
    }
   ],
   "source": [
    "from sklearn.externals import joblib\n",
    "\n",
    "#Make an indivudual file for your model and load it to make predictions\n",
    "joblib.dump(model, 'music-recommender.joblib')\n",
    "joblib.load('music-recommender.joblib')\n",
    "prediction = model.predict([[22, 0]])\n",
    "prediction"
   ]
  },
  {
   "cell_type": "code",
   "execution_count": 133,
   "metadata": {},
   "outputs": [],
   "source": [
    "from sklearn import tree\n",
    "\n",
    "#Create a flow chart for our model to see the logics\n",
    "tree.export_graphviz(model, out_file='music-recommender.dot',\n",
    "                    feature_names=['age', 'gender'],\n",
    "                    class_names=sorted(y.unique()),\n",
    "                    label='all', \n",
    "                    rounded=True,\n",
    "                    filled=True)"
   ]
  }
 ],
 "metadata": {
  "kernelspec": {
   "display_name": "Python 3",
   "language": "python",
   "name": "python3"
  },
  "language_info": {
   "codemirror_mode": {
    "name": "ipython",
    "version": 3
   },
   "file_extension": ".py",
   "mimetype": "text/x-python",
   "name": "python",
   "nbconvert_exporter": "python",
   "pygments_lexer": "ipython3",
   "version": "3.7.6"
  }
 },
 "nbformat": 4,
 "nbformat_minor": 4
}
